{
 "cells": [
  {
   "cell_type": "code",
   "execution_count": 1,
   "id": "e27f1092",
   "metadata": {},
   "outputs": [],
   "source": [
    "import numpy as np\n",
    "import matplotlib.pyplot as plt\n",
    "import pandas as pd\n",
    "import seaborn as sns\n",
    "from sklearn.metrics import confusion_matrix, accuracy_score"
   ]
  },
  {
   "cell_type": "code",
   "execution_count": 2,
   "id": "ac01f75f",
   "metadata": {},
   "outputs": [],
   "source": [
    "df_train = pd.read_csv('ProcessedTrain_001.csv')\n",
    "df_test = pd.read_csv('ProcessedTest_001.csv')\n",
    "df_test=df_test.iloc[:,1:]\n",
    "df_train=df_train.iloc[:,1:]"
   ]
  },
  {
   "cell_type": "code",
   "execution_count": 3,
   "id": "a956d5d6",
   "metadata": {},
   "outputs": [
    {
     "data": {
      "text/html": [
       "<div>\n",
       "<style scoped>\n",
       "    .dataframe tbody tr th:only-of-type {\n",
       "        vertical-align: middle;\n",
       "    }\n",
       "\n",
       "    .dataframe tbody tr th {\n",
       "        vertical-align: top;\n",
       "    }\n",
       "\n",
       "    .dataframe thead th {\n",
       "        text-align: right;\n",
       "    }\n",
       "</style>\n",
       "<table border=\"1\" class=\"dataframe\">\n",
       "  <thead>\n",
       "    <tr style=\"text-align: right;\">\n",
       "      <th></th>\n",
       "      <th>Cycle</th>\n",
       "      <th>SensorMeasure2</th>\n",
       "      <th>SensorMeasure3</th>\n",
       "      <th>SensorMeasure4</th>\n",
       "      <th>SensorMeasure7</th>\n",
       "      <th>SensorMeasure8</th>\n",
       "      <th>SensorMeasure11</th>\n",
       "      <th>SensorMeasure12</th>\n",
       "      <th>SensorMeasure13</th>\n",
       "      <th>SensorMeasure15</th>\n",
       "      <th>SensorMeasure17</th>\n",
       "      <th>SensorMeasure20</th>\n",
       "      <th>SensorMeasure21</th>\n",
       "      <th>labels</th>\n",
       "    </tr>\n",
       "  </thead>\n",
       "  <tbody>\n",
       "    <tr>\n",
       "      <th>0</th>\n",
       "      <td>1</td>\n",
       "      <td>643.02</td>\n",
       "      <td>1585.29</td>\n",
       "      <td>1398.21</td>\n",
       "      <td>553.90</td>\n",
       "      <td>2388.04</td>\n",
       "      <td>47.20</td>\n",
       "      <td>521.72</td>\n",
       "      <td>2388.03</td>\n",
       "      <td>8.4052</td>\n",
       "      <td>392</td>\n",
       "      <td>38.86</td>\n",
       "      <td>23.3735</td>\n",
       "      <td>0</td>\n",
       "    </tr>\n",
       "    <tr>\n",
       "      <th>1</th>\n",
       "      <td>2</td>\n",
       "      <td>641.71</td>\n",
       "      <td>1588.45</td>\n",
       "      <td>1395.42</td>\n",
       "      <td>554.85</td>\n",
       "      <td>2388.01</td>\n",
       "      <td>47.50</td>\n",
       "      <td>522.16</td>\n",
       "      <td>2388.06</td>\n",
       "      <td>8.3803</td>\n",
       "      <td>393</td>\n",
       "      <td>39.02</td>\n",
       "      <td>23.3916</td>\n",
       "      <td>0</td>\n",
       "    </tr>\n",
       "    <tr>\n",
       "      <th>2</th>\n",
       "      <td>3</td>\n",
       "      <td>642.46</td>\n",
       "      <td>1586.94</td>\n",
       "      <td>1401.34</td>\n",
       "      <td>554.11</td>\n",
       "      <td>2388.05</td>\n",
       "      <td>47.50</td>\n",
       "      <td>521.97</td>\n",
       "      <td>2388.03</td>\n",
       "      <td>8.4441</td>\n",
       "      <td>393</td>\n",
       "      <td>39.08</td>\n",
       "      <td>23.4166</td>\n",
       "      <td>0</td>\n",
       "    </tr>\n",
       "    <tr>\n",
       "      <th>3</th>\n",
       "      <td>4</td>\n",
       "      <td>642.44</td>\n",
       "      <td>1584.12</td>\n",
       "      <td>1406.42</td>\n",
       "      <td>554.07</td>\n",
       "      <td>2388.03</td>\n",
       "      <td>47.28</td>\n",
       "      <td>521.38</td>\n",
       "      <td>2388.05</td>\n",
       "      <td>8.3917</td>\n",
       "      <td>391</td>\n",
       "      <td>39.00</td>\n",
       "      <td>23.3737</td>\n",
       "      <td>0</td>\n",
       "    </tr>\n",
       "    <tr>\n",
       "      <th>4</th>\n",
       "      <td>5</td>\n",
       "      <td>642.51</td>\n",
       "      <td>1587.19</td>\n",
       "      <td>1401.92</td>\n",
       "      <td>554.16</td>\n",
       "      <td>2388.01</td>\n",
       "      <td>47.31</td>\n",
       "      <td>522.15</td>\n",
       "      <td>2388.03</td>\n",
       "      <td>8.4031</td>\n",
       "      <td>390</td>\n",
       "      <td>38.99</td>\n",
       "      <td>23.4130</td>\n",
       "      <td>0</td>\n",
       "    </tr>\n",
       "    <tr>\n",
       "      <th>...</th>\n",
       "      <td>...</td>\n",
       "      <td>...</td>\n",
       "      <td>...</td>\n",
       "      <td>...</td>\n",
       "      <td>...</td>\n",
       "      <td>...</td>\n",
       "      <td>...</td>\n",
       "      <td>...</td>\n",
       "      <td>...</td>\n",
       "      <td>...</td>\n",
       "      <td>...</td>\n",
       "      <td>...</td>\n",
       "      <td>...</td>\n",
       "      <td>...</td>\n",
       "    </tr>\n",
       "    <tr>\n",
       "      <th>13091</th>\n",
       "      <td>194</td>\n",
       "      <td>643.24</td>\n",
       "      <td>1599.45</td>\n",
       "      <td>1415.79</td>\n",
       "      <td>553.41</td>\n",
       "      <td>2388.02</td>\n",
       "      <td>47.69</td>\n",
       "      <td>520.69</td>\n",
       "      <td>2388.00</td>\n",
       "      <td>8.4715</td>\n",
       "      <td>394</td>\n",
       "      <td>38.65</td>\n",
       "      <td>23.1974</td>\n",
       "      <td>2</td>\n",
       "    </tr>\n",
       "    <tr>\n",
       "      <th>13092</th>\n",
       "      <td>195</td>\n",
       "      <td>643.22</td>\n",
       "      <td>1595.69</td>\n",
       "      <td>1422.05</td>\n",
       "      <td>553.22</td>\n",
       "      <td>2388.05</td>\n",
       "      <td>47.60</td>\n",
       "      <td>521.05</td>\n",
       "      <td>2388.09</td>\n",
       "      <td>8.4512</td>\n",
       "      <td>395</td>\n",
       "      <td>38.57</td>\n",
       "      <td>23.2771</td>\n",
       "      <td>2</td>\n",
       "    </tr>\n",
       "    <tr>\n",
       "      <th>13093</th>\n",
       "      <td>196</td>\n",
       "      <td>643.44</td>\n",
       "      <td>1593.15</td>\n",
       "      <td>1406.82</td>\n",
       "      <td>553.04</td>\n",
       "      <td>2388.11</td>\n",
       "      <td>47.57</td>\n",
       "      <td>521.18</td>\n",
       "      <td>2388.04</td>\n",
       "      <td>8.4569</td>\n",
       "      <td>395</td>\n",
       "      <td>38.62</td>\n",
       "      <td>23.2051</td>\n",
       "      <td>2</td>\n",
       "    </tr>\n",
       "    <tr>\n",
       "      <th>13094</th>\n",
       "      <td>197</td>\n",
       "      <td>643.26</td>\n",
       "      <td>1594.99</td>\n",
       "      <td>1419.36</td>\n",
       "      <td>553.37</td>\n",
       "      <td>2388.07</td>\n",
       "      <td>47.61</td>\n",
       "      <td>521.33</td>\n",
       "      <td>2388.08</td>\n",
       "      <td>8.4711</td>\n",
       "      <td>395</td>\n",
       "      <td>38.66</td>\n",
       "      <td>23.2699</td>\n",
       "      <td>2</td>\n",
       "    </tr>\n",
       "    <tr>\n",
       "      <th>13095</th>\n",
       "      <td>198</td>\n",
       "      <td>642.95</td>\n",
       "      <td>1601.62</td>\n",
       "      <td>1424.99</td>\n",
       "      <td>552.48</td>\n",
       "      <td>2388.06</td>\n",
       "      <td>47.80</td>\n",
       "      <td>521.07</td>\n",
       "      <td>2388.05</td>\n",
       "      <td>8.4903</td>\n",
       "      <td>396</td>\n",
       "      <td>38.70</td>\n",
       "      <td>23.1855</td>\n",
       "      <td>2</td>\n",
       "    </tr>\n",
       "  </tbody>\n",
       "</table>\n",
       "<p>13096 rows × 14 columns</p>\n",
       "</div>"
      ],
      "text/plain": [
       "       Cycle  SensorMeasure2  SensorMeasure3  SensorMeasure4  SensorMeasure7  \\\n",
       "0          1          643.02         1585.29         1398.21          553.90   \n",
       "1          2          641.71         1588.45         1395.42          554.85   \n",
       "2          3          642.46         1586.94         1401.34          554.11   \n",
       "3          4          642.44         1584.12         1406.42          554.07   \n",
       "4          5          642.51         1587.19         1401.92          554.16   \n",
       "...      ...             ...             ...             ...             ...   \n",
       "13091    194          643.24         1599.45         1415.79          553.41   \n",
       "13092    195          643.22         1595.69         1422.05          553.22   \n",
       "13093    196          643.44         1593.15         1406.82          553.04   \n",
       "13094    197          643.26         1594.99         1419.36          553.37   \n",
       "13095    198          642.95         1601.62         1424.99          552.48   \n",
       "\n",
       "       SensorMeasure8  SensorMeasure11  SensorMeasure12  SensorMeasure13  \\\n",
       "0             2388.04            47.20           521.72          2388.03   \n",
       "1             2388.01            47.50           522.16          2388.06   \n",
       "2             2388.05            47.50           521.97          2388.03   \n",
       "3             2388.03            47.28           521.38          2388.05   \n",
       "4             2388.01            47.31           522.15          2388.03   \n",
       "...               ...              ...              ...              ...   \n",
       "13091         2388.02            47.69           520.69          2388.00   \n",
       "13092         2388.05            47.60           521.05          2388.09   \n",
       "13093         2388.11            47.57           521.18          2388.04   \n",
       "13094         2388.07            47.61           521.33          2388.08   \n",
       "13095         2388.06            47.80           521.07          2388.05   \n",
       "\n",
       "       SensorMeasure15  SensorMeasure17  SensorMeasure20  SensorMeasure21  \\\n",
       "0               8.4052              392            38.86          23.3735   \n",
       "1               8.3803              393            39.02          23.3916   \n",
       "2               8.4441              393            39.08          23.4166   \n",
       "3               8.3917              391            39.00          23.3737   \n",
       "4               8.4031              390            38.99          23.4130   \n",
       "...                ...              ...              ...              ...   \n",
       "13091           8.4715              394            38.65          23.1974   \n",
       "13092           8.4512              395            38.57          23.2771   \n",
       "13093           8.4569              395            38.62          23.2051   \n",
       "13094           8.4711              395            38.66          23.2699   \n",
       "13095           8.4903              396            38.70          23.1855   \n",
       "\n",
       "       labels  \n",
       "0           0  \n",
       "1           0  \n",
       "2           0  \n",
       "3           0  \n",
       "4           0  \n",
       "...       ...  \n",
       "13091       2  \n",
       "13092       2  \n",
       "13093       2  \n",
       "13094       2  \n",
       "13095       2  \n",
       "\n",
       "[13096 rows x 14 columns]"
      ]
     },
     "execution_count": 3,
     "metadata": {},
     "output_type": "execute_result"
    }
   ],
   "source": [
    "df_test"
   ]
  },
  {
   "cell_type": "code",
   "execution_count": 4,
   "id": "a1996489",
   "metadata": {},
   "outputs": [
    {
     "data": {
      "text/html": [
       "<div>\n",
       "<style scoped>\n",
       "    .dataframe tbody tr th:only-of-type {\n",
       "        vertical-align: middle;\n",
       "    }\n",
       "\n",
       "    .dataframe tbody tr th {\n",
       "        vertical-align: top;\n",
       "    }\n",
       "\n",
       "    .dataframe thead th {\n",
       "        text-align: right;\n",
       "    }\n",
       "</style>\n",
       "<table border=\"1\" class=\"dataframe\">\n",
       "  <thead>\n",
       "    <tr style=\"text-align: right;\">\n",
       "      <th></th>\n",
       "      <th>Cycle</th>\n",
       "      <th>SensorMeasure2</th>\n",
       "      <th>SensorMeasure3</th>\n",
       "      <th>SensorMeasure4</th>\n",
       "      <th>SensorMeasure7</th>\n",
       "      <th>SensorMeasure8</th>\n",
       "      <th>SensorMeasure11</th>\n",
       "      <th>SensorMeasure12</th>\n",
       "      <th>SensorMeasure13</th>\n",
       "      <th>SensorMeasure15</th>\n",
       "      <th>SensorMeasure17</th>\n",
       "      <th>SensorMeasure20</th>\n",
       "      <th>SensorMeasure21</th>\n",
       "      <th>labels</th>\n",
       "    </tr>\n",
       "  </thead>\n",
       "  <tbody>\n",
       "    <tr>\n",
       "      <th>0</th>\n",
       "      <td>1</td>\n",
       "      <td>643.02</td>\n",
       "      <td>1585.29</td>\n",
       "      <td>1398.21</td>\n",
       "      <td>553.90</td>\n",
       "      <td>2388.04</td>\n",
       "      <td>47.20</td>\n",
       "      <td>521.72</td>\n",
       "      <td>2388.03</td>\n",
       "      <td>8.4052</td>\n",
       "      <td>392</td>\n",
       "      <td>38.86</td>\n",
       "      <td>23.3735</td>\n",
       "      <td>0</td>\n",
       "    </tr>\n",
       "    <tr>\n",
       "      <th>1</th>\n",
       "      <td>2</td>\n",
       "      <td>641.71</td>\n",
       "      <td>1588.45</td>\n",
       "      <td>1395.42</td>\n",
       "      <td>554.85</td>\n",
       "      <td>2388.01</td>\n",
       "      <td>47.50</td>\n",
       "      <td>522.16</td>\n",
       "      <td>2388.06</td>\n",
       "      <td>8.3803</td>\n",
       "      <td>393</td>\n",
       "      <td>39.02</td>\n",
       "      <td>23.3916</td>\n",
       "      <td>0</td>\n",
       "    </tr>\n",
       "    <tr>\n",
       "      <th>2</th>\n",
       "      <td>3</td>\n",
       "      <td>642.46</td>\n",
       "      <td>1586.94</td>\n",
       "      <td>1401.34</td>\n",
       "      <td>554.11</td>\n",
       "      <td>2388.05</td>\n",
       "      <td>47.50</td>\n",
       "      <td>521.97</td>\n",
       "      <td>2388.03</td>\n",
       "      <td>8.4441</td>\n",
       "      <td>393</td>\n",
       "      <td>39.08</td>\n",
       "      <td>23.4166</td>\n",
       "      <td>0</td>\n",
       "    </tr>\n",
       "    <tr>\n",
       "      <th>3</th>\n",
       "      <td>4</td>\n",
       "      <td>642.44</td>\n",
       "      <td>1584.12</td>\n",
       "      <td>1406.42</td>\n",
       "      <td>554.07</td>\n",
       "      <td>2388.03</td>\n",
       "      <td>47.28</td>\n",
       "      <td>521.38</td>\n",
       "      <td>2388.05</td>\n",
       "      <td>8.3917</td>\n",
       "      <td>391</td>\n",
       "      <td>39.00</td>\n",
       "      <td>23.3737</td>\n",
       "      <td>0</td>\n",
       "    </tr>\n",
       "    <tr>\n",
       "      <th>4</th>\n",
       "      <td>5</td>\n",
       "      <td>642.51</td>\n",
       "      <td>1587.19</td>\n",
       "      <td>1401.92</td>\n",
       "      <td>554.16</td>\n",
       "      <td>2388.01</td>\n",
       "      <td>47.31</td>\n",
       "      <td>522.15</td>\n",
       "      <td>2388.03</td>\n",
       "      <td>8.4031</td>\n",
       "      <td>390</td>\n",
       "      <td>38.99</td>\n",
       "      <td>23.4130</td>\n",
       "      <td>0</td>\n",
       "    </tr>\n",
       "    <tr>\n",
       "      <th>...</th>\n",
       "      <td>...</td>\n",
       "      <td>...</td>\n",
       "      <td>...</td>\n",
       "      <td>...</td>\n",
       "      <td>...</td>\n",
       "      <td>...</td>\n",
       "      <td>...</td>\n",
       "      <td>...</td>\n",
       "      <td>...</td>\n",
       "      <td>...</td>\n",
       "      <td>...</td>\n",
       "      <td>...</td>\n",
       "      <td>...</td>\n",
       "      <td>...</td>\n",
       "    </tr>\n",
       "    <tr>\n",
       "      <th>13091</th>\n",
       "      <td>194</td>\n",
       "      <td>643.24</td>\n",
       "      <td>1599.45</td>\n",
       "      <td>1415.79</td>\n",
       "      <td>553.41</td>\n",
       "      <td>2388.02</td>\n",
       "      <td>47.69</td>\n",
       "      <td>520.69</td>\n",
       "      <td>2388.00</td>\n",
       "      <td>8.4715</td>\n",
       "      <td>394</td>\n",
       "      <td>38.65</td>\n",
       "      <td>23.1974</td>\n",
       "      <td>2</td>\n",
       "    </tr>\n",
       "    <tr>\n",
       "      <th>13092</th>\n",
       "      <td>195</td>\n",
       "      <td>643.22</td>\n",
       "      <td>1595.69</td>\n",
       "      <td>1422.05</td>\n",
       "      <td>553.22</td>\n",
       "      <td>2388.05</td>\n",
       "      <td>47.60</td>\n",
       "      <td>521.05</td>\n",
       "      <td>2388.09</td>\n",
       "      <td>8.4512</td>\n",
       "      <td>395</td>\n",
       "      <td>38.57</td>\n",
       "      <td>23.2771</td>\n",
       "      <td>2</td>\n",
       "    </tr>\n",
       "    <tr>\n",
       "      <th>13093</th>\n",
       "      <td>196</td>\n",
       "      <td>643.44</td>\n",
       "      <td>1593.15</td>\n",
       "      <td>1406.82</td>\n",
       "      <td>553.04</td>\n",
       "      <td>2388.11</td>\n",
       "      <td>47.57</td>\n",
       "      <td>521.18</td>\n",
       "      <td>2388.04</td>\n",
       "      <td>8.4569</td>\n",
       "      <td>395</td>\n",
       "      <td>38.62</td>\n",
       "      <td>23.2051</td>\n",
       "      <td>2</td>\n",
       "    </tr>\n",
       "    <tr>\n",
       "      <th>13094</th>\n",
       "      <td>197</td>\n",
       "      <td>643.26</td>\n",
       "      <td>1594.99</td>\n",
       "      <td>1419.36</td>\n",
       "      <td>553.37</td>\n",
       "      <td>2388.07</td>\n",
       "      <td>47.61</td>\n",
       "      <td>521.33</td>\n",
       "      <td>2388.08</td>\n",
       "      <td>8.4711</td>\n",
       "      <td>395</td>\n",
       "      <td>38.66</td>\n",
       "      <td>23.2699</td>\n",
       "      <td>2</td>\n",
       "    </tr>\n",
       "    <tr>\n",
       "      <th>13095</th>\n",
       "      <td>198</td>\n",
       "      <td>642.95</td>\n",
       "      <td>1601.62</td>\n",
       "      <td>1424.99</td>\n",
       "      <td>552.48</td>\n",
       "      <td>2388.06</td>\n",
       "      <td>47.80</td>\n",
       "      <td>521.07</td>\n",
       "      <td>2388.05</td>\n",
       "      <td>8.4903</td>\n",
       "      <td>396</td>\n",
       "      <td>38.70</td>\n",
       "      <td>23.1855</td>\n",
       "      <td>2</td>\n",
       "    </tr>\n",
       "  </tbody>\n",
       "</table>\n",
       "<p>13096 rows × 14 columns</p>\n",
       "</div>"
      ],
      "text/plain": [
       "       Cycle  SensorMeasure2  SensorMeasure3  SensorMeasure4  SensorMeasure7  \\\n",
       "0          1          643.02         1585.29         1398.21          553.90   \n",
       "1          2          641.71         1588.45         1395.42          554.85   \n",
       "2          3          642.46         1586.94         1401.34          554.11   \n",
       "3          4          642.44         1584.12         1406.42          554.07   \n",
       "4          5          642.51         1587.19         1401.92          554.16   \n",
       "...      ...             ...             ...             ...             ...   \n",
       "13091    194          643.24         1599.45         1415.79          553.41   \n",
       "13092    195          643.22         1595.69         1422.05          553.22   \n",
       "13093    196          643.44         1593.15         1406.82          553.04   \n",
       "13094    197          643.26         1594.99         1419.36          553.37   \n",
       "13095    198          642.95         1601.62         1424.99          552.48   \n",
       "\n",
       "       SensorMeasure8  SensorMeasure11  SensorMeasure12  SensorMeasure13  \\\n",
       "0             2388.04            47.20           521.72          2388.03   \n",
       "1             2388.01            47.50           522.16          2388.06   \n",
       "2             2388.05            47.50           521.97          2388.03   \n",
       "3             2388.03            47.28           521.38          2388.05   \n",
       "4             2388.01            47.31           522.15          2388.03   \n",
       "...               ...              ...              ...              ...   \n",
       "13091         2388.02            47.69           520.69          2388.00   \n",
       "13092         2388.05            47.60           521.05          2388.09   \n",
       "13093         2388.11            47.57           521.18          2388.04   \n",
       "13094         2388.07            47.61           521.33          2388.08   \n",
       "13095         2388.06            47.80           521.07          2388.05   \n",
       "\n",
       "       SensorMeasure15  SensorMeasure17  SensorMeasure20  SensorMeasure21  \\\n",
       "0               8.4052              392            38.86          23.3735   \n",
       "1               8.3803              393            39.02          23.3916   \n",
       "2               8.4441              393            39.08          23.4166   \n",
       "3               8.3917              391            39.00          23.3737   \n",
       "4               8.4031              390            38.99          23.4130   \n",
       "...                ...              ...              ...              ...   \n",
       "13091           8.4715              394            38.65          23.1974   \n",
       "13092           8.4512              395            38.57          23.2771   \n",
       "13093           8.4569              395            38.62          23.2051   \n",
       "13094           8.4711              395            38.66          23.2699   \n",
       "13095           8.4903              396            38.70          23.1855   \n",
       "\n",
       "       labels  \n",
       "0           0  \n",
       "1           0  \n",
       "2           0  \n",
       "3           0  \n",
       "4           0  \n",
       "...       ...  \n",
       "13091       2  \n",
       "13092       2  \n",
       "13093       2  \n",
       "13094       2  \n",
       "13095       2  \n",
       "\n",
       "[13096 rows x 14 columns]"
      ]
     },
     "execution_count": 4,
     "metadata": {},
     "output_type": "execute_result"
    }
   ],
   "source": [
    "df_test"
   ]
  },
  {
   "cell_type": "code",
   "execution_count": 5,
   "id": "00862ebe",
   "metadata": {},
   "outputs": [],
   "source": [
    "x_train=df_train.iloc[:,0:-1]\n",
    "y_train=df_train.iloc[:,-1]"
   ]
  },
  {
   "cell_type": "code",
   "execution_count": 6,
   "id": "36987375",
   "metadata": {},
   "outputs": [],
   "source": [
    "x_test=df_test.iloc[:,0:-1]\n",
    "y_test=df_test.iloc[:,-1]"
   ]
  },
  {
   "cell_type": "markdown",
   "id": "9ad6967f",
   "metadata": {},
   "source": [
    "<h1>Training a Random Forest model </h1>"
   ]
  },
  {
   "cell_type": "code",
   "execution_count": 7,
   "id": "5755f52f",
   "metadata": {},
   "outputs": [
    {
     "data": {
      "text/plain": [
       "RandomForestClassifier()"
      ]
     },
     "execution_count": 7,
     "metadata": {},
     "output_type": "execute_result"
    }
   ],
   "source": [
    "from sklearn.ensemble import RandomForestClassifier\n",
    "RF = RandomForestClassifier()\n",
    "RF.fit(x_train, y_train)"
   ]
  },
  {
   "cell_type": "code",
   "execution_count": 8,
   "id": "d126c8c4",
   "metadata": {},
   "outputs": [
    {
     "data": {
      "text/plain": [
       "0.8972968845448992"
      ]
     },
     "execution_count": 8,
     "metadata": {},
     "output_type": "execute_result"
    },
    {
     "data": {
      "image/png": "[encoded data removed]",
      "text/plain": [
       "<Figure size 432x288 with 2 Axes>"
      ]
     },
     "metadata": {
      "needs_background": "light"
     },
     "output_type": "display_data"
    }
   ],
   "source": [
    "y_pred_RF = RF.predict(x_test)\n",
    "\n",
    "cm = pd.DataFrame(confusion_matrix(y_test, y_pred_RF, normalize ='true')*100)\n",
    "colormap = sns.color_palette(\"Reds\")\n",
    "sns.heatmap(cm, annot=True,cmap=colormap)\n",
    "\n",
    "accuracy_score(y_test, y_pred_RF)"
   ]
  },
  {
   "cell_type": "code",
   "execution_count": 9,
   "id": "2d52305e",
   "metadata": {},
   "outputs": [
    {
     "name": "stdout",
     "output_type": "stream",
     "text": [
      "[0]\n"
     ]
    }
   ],
   "source": [
    "res=RF.predict([[8,642.54,1580.89,1400.89,553.59,2388.05,47.21,522.09,2388.06,8.4213,393,39.05,23.3224]])\n",
    "print(res)"
   ]
  },
  {
   "cell_type": "code",
   "execution_count": 10,
   "id": "810b5f0e",
   "metadata": {},
   "outputs": [
    {
     "name": "stdout",
     "output_type": "stream",
     "text": [
      "[2]\n"
     ]
    }
   ],
   "source": [
    "res=RF.predict([[194,643.24,1599.45,1415.79,553.41,2388.02,47.69,520.69,2388,8.4715,394,38.65,23.1974]])\n",
    "print(res)"
   ]
  },
  {
   "cell_type": "markdown",
   "id": "d9fa2abb",
   "metadata": {},
   "source": [
    "<h1> Decision Tree </h1>"
   ]
  },
  {
   "cell_type": "code",
   "execution_count": 11,
   "id": "d2a8d909",
   "metadata": {},
   "outputs": [],
   "source": [
    "from sklearn.tree import DecisionTreeClassifier\n",
    "model_DT = DecisionTreeClassifier()\n"
   ]
  },
  {
   "cell_type": "code",
   "execution_count": 12,
   "id": "18b4c104",
   "metadata": {},
   "outputs": [
    {
     "name": "stdout",
     "output_type": "stream",
     "text": [
      "Depth of the Decision Tree : 29\n",
      "Target on train data [0 0 0 ... 1 2 2]\n"
     ]
    }
   ],
   "source": [
    "model_DT.fit(x_train,y_train)\n",
    "\n",
    "# depth of the decision tree\n",
    "print('Depth of the Decision Tree :', model_DT.get_depth())\n",
    "\n",
    "# predict the target on the train dataset\n",
    "predict_test = model_DT.predict(x_test)\n",
    "print('Target on train data',predict_test) "
   ]
  },
  {
   "cell_type": "code",
   "execution_count": 13,
   "id": "7318fb20",
   "metadata": {},
   "outputs": [
    {
     "data": {
      "text/plain": [
       "0.866905925473427"
      ]
     },
     "execution_count": 13,
     "metadata": {},
     "output_type": "execute_result"
    },
    {
     "data": {
      "image/png": "[encoded data removed]",
      "text/plain": [
       "<Figure size 432x288 with 2 Axes>"
      ]
     },
     "metadata": {
      "needs_background": "light"
     },
     "output_type": "display_data"
    }
   ],
   "source": [
    "y_pred_DT = model_DT.predict(x_test)\n",
    "\n",
    "cm = pd.DataFrame(confusion_matrix(y_test, y_pred_DT, normalize ='true')*100)\n",
    "colormap = sns.color_palette(\"Reds\")\n",
    "sns.heatmap(cm, annot=True,cmap=colormap)\n",
    "\n",
    "accuracy_score(y_test, y_pred_DT)"
   ]
  },
  {
   "cell_type": "code",
   "execution_count": 14,
   "id": "ee0906b8",
   "metadata": {},
   "outputs": [
    {
     "name": "stdout",
     "output_type": "stream",
     "text": [
      "[0]\n"
     ]
    }
   ],
   "source": [
    "res=model_DT.predict([[8,642.54,1580.89,1400.89,553.59,2388.05,47.21,522.09,2388.06,8.4213,393,39.05,23.3224]])\n",
    "print(res)"
   ]
  },
  {
   "cell_type": "markdown",
   "id": "f5e28370",
   "metadata": {},
   "source": [
    "<h1> Naive Bayes</h1>"
   ]
  },
  {
   "cell_type": "code",
   "execution_count": 15,
   "id": "4503a197",
   "metadata": {},
   "outputs": [],
   "source": [
    "from sklearn.preprocessing import StandardScaler\n",
    "sc = StandardScaler()\n",
    "X_train = sc.fit_transform(x_train)\n",
    "X_test = sc.transform(x_test)"
   ]
  },
  {
   "cell_type": "code",
   "execution_count": 16,
   "id": "21b20366",
   "metadata": {},
   "outputs": [
    {
     "data": {
      "text/plain": [
       "GaussianNB()"
      ]
     },
     "execution_count": 16,
     "metadata": {},
     "output_type": "execute_result"
    }
   ],
   "source": [
    "from sklearn.naive_bayes import GaussianNB\n",
    "classifierNB = GaussianNB()\n",
    "classifierNB.fit(X_train, y_train)"
   ]
  },
  {
   "cell_type": "code",
   "execution_count": 17,
   "id": "1483eaf0",
   "metadata": {},
   "outputs": [
    {
     "data": {
      "text/plain": [
       "0.82376298106292"
      ]
     },
     "execution_count": 17,
     "metadata": {},
     "output_type": "execute_result"
    },
    {
     "data": {
      "image/png": "[encoded data removed]",
      "text/plain": [
       "<Figure size 432x288 with 2 Axes>"
      ]
     },
     "metadata": {
      "needs_background": "light"
     },
     "output_type": "display_data"
    }
   ],
   "source": [
    "y_pred_NB = classifierNB.predict(X_test)\n",
    "\n",
    "cm = pd.DataFrame(confusion_matrix(y_test, y_pred_NB, normalize ='true')*100)\n",
    "colormap = sns.color_palette(\"Reds\")\n",
    "sns.heatmap(cm, annot=True,cmap=colormap)\n",
    "\n",
    "accuracy_score(y_test, y_pred_NB)"
   ]
  },
  {
   "cell_type": "code",
   "execution_count": 18,
   "id": "6876af32",
   "metadata": {},
   "outputs": [
    {
     "name": "stdout",
     "output_type": "stream",
     "text": [
      "[2]\n"
     ]
    }
   ],
   "source": [
    "res=classifierNB.predict([[8,642.54,1580.89,1400.89,553.59,2388.05,47.21,522.09,2388.06,8.4213,393,39.05,23.3224]])\n",
    "print(res)"
   ]
  },
  {
   "cell_type": "code",
   "execution_count": 19,
   "id": "559a6e73",
   "metadata": {},
   "outputs": [
    {
     "name": "stdout",
     "output_type": "stream",
     "text": [
      "[2]\n"
     ]
    }
   ],
   "source": [
    "res=classifierNB.predict([[194,643.24,1599.45,1415.79,553.41,2388.02,47.69,520.69,2388,8.4715,394,38.65,23.1974]])\n",
    "print(res)"
   ]
  },
  {
   "cell_type": "code",
   "execution_count": 20,
   "id": "2c539772",
   "metadata": {},
   "outputs": [
    {
     "data": {
      "image/png": "[encoded data removed]",
      "text/plain": [
       "<Figure size 432x288 with 1 Axes>"
      ]
     },
     "metadata": {
      "needs_background": "light"
     },
     "output_type": "display_data"
    }
   ],
   "source": [
    "# Using the trained model to check the Test data\n",
    "y_pred = model_DT.predict(x_test)\n",
    "\n",
    "\n",
    "# Plotting the test data\n",
    "plt.scatter(x_test['Cycle'][100:200],y_pred[100:200])\n",
    "plt.scatter(x_test['Cycle'][100:200],np.array(y_test)[100:200])\n",
    "plt.legend(['Prediction', 'Actual'], loc='upper left')\n",
    "plt.ylabel('RUL')\n",
    "plt.xlabel('CYCLES')\n",
    "plt.show()"
   ]
  },
  {
   "cell_type": "code",
   "execution_count": null,
   "id": "01cc114d",
   "metadata": {},
   "outputs": [],
   "source": []
  },
  {
   "cell_type": "code",
   "execution_count": null,
   "id": "716595f3",
   "metadata": {},
   "outputs": [],
   "source": []
  },
  {
   "cell_type": "code",
   "execution_count": null,
   "id": "09adf6a5",
   "metadata": {},
   "outputs": [],
   "source": []
  }
 ],
 "metadata": {
  "kernelspec": {
   "display_name": "Python 3",
   "language": "python",
   "name": "python3"
  },
  "language_info": {
   "codemirror_mode": {
    "name": "ipython",
    "version": 3
   },
   "file_extension": ".py",
   "mimetype": "text/x-python",
   "name": "python",
   "nbconvert_exporter": "python",
   "pygments_lexer": "ipython3",
   "version": "3.9.5"
  }
 },
 "nbformat": 4,
 "nbformat_minor": 5
}
