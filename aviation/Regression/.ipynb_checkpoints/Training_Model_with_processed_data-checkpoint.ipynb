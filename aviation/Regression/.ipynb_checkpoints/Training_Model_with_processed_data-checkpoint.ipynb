{
 "cells": [
  {
   "cell_type": "code",
   "execution_count": 1,
   "metadata": {},
   "outputs": [],
   "source": [
    "import numpy as np\n",
    "import matplotlib.pyplot as plt\n",
    "import pandas as pd\n",
    "import seaborn as sns"
   ]
  },
  {
   "cell_type": "code",
   "execution_count": 2,
   "metadata": {},
   "outputs": [],
   "source": [
    "from sklearn.model_selection import train_test_split\n",
    "from sklearn.model_selection import GridSearchCV\n",
    "from sklearn.ensemble import RandomForestRegressor\n",
    "from sklearn import metrics"
   ]
  },
  {
   "cell_type": "code",
   "execution_count": 3,
   "metadata": {},
   "outputs": [],
   "source": [
    "def give_Test_engine(Test_no,engine_id):\n",
    "    \"Test_no, is the Sl.no of Test-set\"\n",
    "    \"engine_id, is the ID of engine\"\n",
    "    import pandas as pd\n",
    "    import numpy as np\n",
    "    df=pd.read_csv(\"Processed_Test_00{}.csv\".format(Test_no))\n",
    "    test = df[df['ID']==engine_id]\n",
    "    test = test.drop(columns=['ID'])\n",
    "    X_test=test.iloc[:,:-1]\n",
    "    y_test=test.iloc[:,-1]\n",
    "    return X_test,y_test"
   ]
  },
  {
   "cell_type": "code",
   "execution_count": 4,
   "metadata": {},
   "outputs": [],
   "source": [
    "def give_Train_engine(Train_no,engine_id):\n",
    "    \"Train_no, is the Sl.no of Train-set\"\n",
    "    \"engine_id, is the ID of engine\"\n",
    "    import pandas as pd\n",
    "    import numpy as np\n",
    "    df=pd.read_csv(\"Processed_Train_00{}.csv\".format(Train_no))\n",
    "    train = df[df['ID']==engine_id]\n",
    "    train = train.drop(columns=['ID'])\n",
    "    X_train=train.iloc[:,:-1]\n",
    "    y_train=train.iloc[:,-1]\n",
    "    return X_train,y_train"
   ]
  },
  {
   "cell_type": "markdown",
   "metadata": {},
   "source": [
    "# Importing all the training data"
   ]
  },
  {
   "cell_type": "code",
   "execution_count": 5,
   "metadata": {},
   "outputs": [],
   "source": [
    "df1 = pd.read_csv('Processed_Train_001.csv')\n",
    "df2 = pd.read_csv('Processed_Train_002.csv')\n",
    "df3 = pd.read_csv('Processed_Train_003.csv')\n",
    "df4 = pd.read_csv('Processed_Train_004.csv')\n",
    "\n",
    "df=pd.concat([df1,df2,df3,df4])"
   ]
  },
  {
   "cell_type": "markdown",
   "metadata": {},
   "source": [
    "# Dividing into Features and Target"
   ]
  },
  {
   "cell_type": "code",
   "execution_count": 6,
   "metadata": {},
   "outputs": [],
   "source": [
    "X = df.iloc[:, 0:-1]\n",
    "y = df.iloc[:, -1]\n",
    "\n",
    "# Train Test split\n",
    "X_train, X_test, y_train, y_test = train_test_split(X, y, test_size = 0.2, shuffle=False)"
   ]
  },
  {
   "cell_type": "markdown",
   "metadata": {},
   "source": [
    "# Training a Random Forest Regression Model"
   ]
  },
  {
   "cell_type": "code",
   "execution_count": null,
   "metadata": {},
   "outputs": [],
   "source": [
    "regressor = RandomForestRegressor()\n",
    "regressor.fit(X_train,y_train)"
   ]
  },
  {
   "cell_type": "code",
   "execution_count": null,
   "metadata": {},
   "outputs": [],
   "source": [
    "y_pred = regressor.predict(X_test)\n",
    "print('RMSE on Test set:', np.sqrt(metrics.mean_squared_error(y_test, y_pred)))\n",
    "\n",
    "y_pred_train = regressor.predict(X_train)\n",
    "print('RMSE on Training set:', np.sqrt(metrics.mean_squared_error(y_train, y_pred_train)))"
   ]
  },
  {
   "cell_type": "code",
   "execution_count": null,
   "metadata": {},
   "outputs": [],
   "source": [
    "a,b=250,400\n",
    "rang = list(range(a,b))\n",
    "plt.plot(np.array(X_test)[rang,0],y_pred[rang])\n",
    "plt.plot(np.array(X_test)[rang,0],np.array(y_test)[rang])\n",
    "\n",
    "plt.ylabel('RUL')\n",
    "plt.xlabel('CYCLES')\n",
    "plt.show()"
   ]
  },
  {
   "cell_type": "markdown",
   "metadata": {},
   "source": [
    "# Doing Grid Search for Hyperparameters Tuning"
   ]
  },
  {
   "cell_type": "markdown",
   "metadata": {},
   "source": [
    "**n_estimators:** The more trees, the less likely the algorithm is to overfit. So try increasing this parameter. The lower this number, the closer the model is to a decision tree, with a restricted feature set.\n",
    "\n",
    "**max_depth:** This parameter will reduce the complexity of the learned models, lowering over fitting risk (keep it low e.g. 2,3,4). \n",
    "\n",
    "**min_samples_leaf:** Try setting these values greater than one. This has a similar effect to the max_depth parameter, it means the branch will stop splitting once the leaves have that number of samples each."
   ]
  },
  {
   "cell_type": "code",
   "execution_count": null,
   "metadata": {},
   "outputs": [],
   "source": [
    "# param_grid = {'max_features': 'log2', 'n_estimators': 350}\n",
    "# RF = GridSearchCV(RandomForestRegressor(), param_grid = param_grid,scoring = \"neg_root_mean_squared_error\",\n",
    "#                     n_jobs = -1, cv = 10)\n",
    "# RF.fit(X_train,y_train)\n",
    "\n",
    "# y_pred = RF.predict(X_test)\n",
    "# print('RMSE on Test set:', np.sqrt(metrics.mean_squared_error(y_test, y_pred)))\n",
    "\n",
    "# y_pred_train = RF.predict(X_train)\n",
    "# print('RMSE on Training set:', np.sqrt(metrics.mean_squared_error(y_train, y_pred_train)))"
   ]
  },
  {
   "cell_type": "code",
   "execution_count": null,
   "metadata": {},
   "outputs": [],
   "source": [
    "RF = RandomForestRegressor( n_estimators= 400)\n",
    "RF.fit(X_train,y_train)\n",
    "y_pred = RF.predict(X_test)\n",
    "print('RMSE on Test set:', np.sqrt(metrics.mean_squared_error(y_test, y_pred)))\n",
    "\n",
    "y_pred_train = RF.predict(X_train)\n",
    "print('RMSE on Training set:', np.sqrt(metrics.mean_squared_error(y_train, y_pred_train)))"
   ]
  },
  {
   "cell_type": "markdown",
   "metadata": {},
   "source": [
    "# Moving Average"
   ]
  },
  {
   "cell_type": "code",
   "execution_count": null,
   "metadata": {},
   "outputs": [],
   "source": [
    "def moving_average(window_size,y_pred):\n",
    "    numbers_series = pd.Series(y_pred)\n",
    "    windows = numbers_series.rolling(window_size)\n",
    "    moving_averages = windows.mean()\n",
    "\n",
    "    moving_averages_list = moving_averages.tolist()\n",
    "    y_pred_avg = moving_averages_list[window_size - 1:]\n",
    "    return y_pred_avg"
   ]
  },
  {
   "cell_type": "code",
   "execution_count": null,
   "metadata": {},
   "outputs": [],
   "source": [
    "X_test,y_test=give_engine(1,10)############ Function\n",
    "y_pred = RF.predict(X_test)\n",
    "\n",
    "window_size=10\n",
    "y_pred=moving_average(window_size,y_pred)\n",
    "\n",
    "print('RMSE on Test set:', np.sqrt(metrics.mean_squared_error(y_test[0:len(y_pred)], y_pred)))\n",
    "\n",
    "plt.plot(y_pred)\n",
    "plt.plot(np.array(y_test))\n",
    "plt.ylabel('RUL')\n",
    "plt.xlabel('CYCLES')\n",
    "plt.legend(['Prediction','Actual'])\n",
    "plt.show()"
   ]
  },
  {
   "cell_type": "markdown",
   "metadata": {},
   "source": [
    "# Performance on Train Set"
   ]
  },
  {
   "cell_type": "code",
   "execution_count": null,
   "metadata": {},
   "outputs": [],
   "source": [
    "X1,y1=give_Train_engine(3,10)\n",
    "\n",
    "y_pred_train = RF.predict(X_train)\n",
    "\n",
    "plt.plot(X1['Cycle'],y_pred_train)\n",
    "plt.plot(X1['Cycle'],y1)\n",
    "plt.ylabel('RUL')\n",
    "plt.xlabel('CYCLE')\n",
    "plt.legend(['Prediction', 'Actual'], loc='upper right')\n",
    "plt.show()\n",
    "\n",
    "\n",
    "print('RMSE on Train set:', np.sqrt(metrics.mean_squared_error(y1 ,y_pred_train)))"
   ]
  }
 ],
 "metadata": {
  "kernelspec": {
   "display_name": "Python 3",
   "language": "python",
   "name": "python3"
  },
  "language_info": {
   "codemirror_mode": {
    "name": "ipython",
    "version": 3
   },
   "file_extension": ".py",
   "mimetype": "text/x-python",
   "name": "python",
   "nbconvert_exporter": "python",
   "pygments_lexer": "ipython3",
   "version": "3.9.5"
  },
  "varInspector": {
   "cols": {
    "lenName": 16,
    "lenType": 16,
    "lenVar": 40
   },
   "kernels_config": {
    "python": {
     "delete_cmd_postfix": "",
     "delete_cmd_prefix": "del ",
     "library": "var_list.py",
     "varRefreshCmd": "print(var_dic_list())"
    },
    "r": {
     "delete_cmd_postfix": ") ",
     "delete_cmd_prefix": "rm(",
     "library": "var_list.r",
     "varRefreshCmd": "cat(var_dic_list()) "
    }
   },
   "types_to_exclude": [
    "module",
    "function",
    "builtin_function_or_method",
    "instance",
    "_Feature"
   ],
   "window_display": false
  }
 },
 "nbformat": 4,
 "nbformat_minor": 4
}
