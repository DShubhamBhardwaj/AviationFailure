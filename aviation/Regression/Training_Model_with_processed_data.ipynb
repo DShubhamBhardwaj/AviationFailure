{
 "cells": [
  {
   "cell_type": "code",
   "execution_count": 1,
   "metadata": {},
   "outputs": [],
   "source": [
    "import numpy as np\n",
    "import matplotlib.pyplot as plt\n",
    "import pandas as pd\n",
    "import seaborn as sns"
   ]
  },
  {
   "cell_type": "code",
   "execution_count": 2,
   "metadata": {},
   "outputs": [],
   "source": [
    "from sklearn.model_selection import train_test_split\n",
    "from sklearn.model_selection import GridSearchCV\n",
    "from sklearn.ensemble import RandomForestRegressor\n",
    "from sklearn import metrics"
   ]
  },
  {
   "cell_type": "code",
   "execution_count": 3,
   "metadata": {},
   "outputs": [
    {
     "data": {
      "text/html": [
       "<div>\n",
       "<style scoped>\n",
       "    .dataframe tbody tr th:only-of-type {\n",
       "        vertical-align: middle;\n",
       "    }\n",
       "\n",
       "    .dataframe tbody tr th {\n",
       "        vertical-align: top;\n",
       "    }\n",
       "\n",
       "    .dataframe thead th {\n",
       "        text-align: right;\n",
       "    }\n",
       "</style>\n",
       "<table border=\"1\" class=\"dataframe\">\n",
       "  <thead>\n",
       "    <tr style=\"text-align: right;\">\n",
       "      <th></th>\n",
       "      <th>ID</th>\n",
       "      <th>Cycle</th>\n",
       "      <th>SensorMeasure2</th>\n",
       "      <th>SensorMeasure3</th>\n",
       "      <th>SensorMeasure4</th>\n",
       "      <th>SensorMeasure7</th>\n",
       "      <th>SensorMeasure8</th>\n",
       "      <th>SensorMeasure11</th>\n",
       "      <th>SensorMeasure12</th>\n",
       "      <th>SensorMeasure13</th>\n",
       "      <th>SensorMeasure15</th>\n",
       "      <th>SensorMeasure17</th>\n",
       "      <th>SensorMeasure20</th>\n",
       "      <th>SensorMeasure21</th>\n",
       "      <th>RUL</th>\n",
       "    </tr>\n",
       "  </thead>\n",
       "  <tbody>\n",
       "    <tr>\n",
       "      <th>0</th>\n",
       "      <td>1</td>\n",
       "      <td>1</td>\n",
       "      <td>643.02</td>\n",
       "      <td>1585.29</td>\n",
       "      <td>1398.21</td>\n",
       "      <td>553.90</td>\n",
       "      <td>2388.04</td>\n",
       "      <td>47.20</td>\n",
       "      <td>521.72</td>\n",
       "      <td>2388.03</td>\n",
       "      <td>8.4052</td>\n",
       "      <td>392</td>\n",
       "      <td>38.86</td>\n",
       "      <td>23.3735</td>\n",
       "      <td>142</td>\n",
       "    </tr>\n",
       "    <tr>\n",
       "      <th>1</th>\n",
       "      <td>1</td>\n",
       "      <td>2</td>\n",
       "      <td>641.71</td>\n",
       "      <td>1588.45</td>\n",
       "      <td>1395.42</td>\n",
       "      <td>554.85</td>\n",
       "      <td>2388.01</td>\n",
       "      <td>47.50</td>\n",
       "      <td>522.16</td>\n",
       "      <td>2388.06</td>\n",
       "      <td>8.3803</td>\n",
       "      <td>393</td>\n",
       "      <td>39.02</td>\n",
       "      <td>23.3916</td>\n",
       "      <td>141</td>\n",
       "    </tr>\n",
       "    <tr>\n",
       "      <th>2</th>\n",
       "      <td>1</td>\n",
       "      <td>3</td>\n",
       "      <td>642.46</td>\n",
       "      <td>1586.94</td>\n",
       "      <td>1401.34</td>\n",
       "      <td>554.11</td>\n",
       "      <td>2388.05</td>\n",
       "      <td>47.50</td>\n",
       "      <td>521.97</td>\n",
       "      <td>2388.03</td>\n",
       "      <td>8.4441</td>\n",
       "      <td>393</td>\n",
       "      <td>39.08</td>\n",
       "      <td>23.4166</td>\n",
       "      <td>140</td>\n",
       "    </tr>\n",
       "    <tr>\n",
       "      <th>3</th>\n",
       "      <td>1</td>\n",
       "      <td>4</td>\n",
       "      <td>642.44</td>\n",
       "      <td>1584.12</td>\n",
       "      <td>1406.42</td>\n",
       "      <td>554.07</td>\n",
       "      <td>2388.03</td>\n",
       "      <td>47.28</td>\n",
       "      <td>521.38</td>\n",
       "      <td>2388.05</td>\n",
       "      <td>8.3917</td>\n",
       "      <td>391</td>\n",
       "      <td>39.00</td>\n",
       "      <td>23.3737</td>\n",
       "      <td>139</td>\n",
       "    </tr>\n",
       "    <tr>\n",
       "      <th>4</th>\n",
       "      <td>1</td>\n",
       "      <td>5</td>\n",
       "      <td>642.51</td>\n",
       "      <td>1587.19</td>\n",
       "      <td>1401.92</td>\n",
       "      <td>554.16</td>\n",
       "      <td>2388.01</td>\n",
       "      <td>47.31</td>\n",
       "      <td>522.15</td>\n",
       "      <td>2388.03</td>\n",
       "      <td>8.4031</td>\n",
       "      <td>390</td>\n",
       "      <td>38.99</td>\n",
       "      <td>23.4130</td>\n",
       "      <td>138</td>\n",
       "    </tr>\n",
       "  </tbody>\n",
       "</table>\n",
       "</div>"
      ],
      "text/plain": [
       "   ID  Cycle  SensorMeasure2  SensorMeasure3  SensorMeasure4  SensorMeasure7  \\\n",
       "0   1      1          643.02         1585.29         1398.21          553.90   \n",
       "1   1      2          641.71         1588.45         1395.42          554.85   \n",
       "2   1      3          642.46         1586.94         1401.34          554.11   \n",
       "3   1      4          642.44         1584.12         1406.42          554.07   \n",
       "4   1      5          642.51         1587.19         1401.92          554.16   \n",
       "\n",
       "   SensorMeasure8  SensorMeasure11  SensorMeasure12  SensorMeasure13  \\\n",
       "0         2388.04            47.20           521.72          2388.03   \n",
       "1         2388.01            47.50           522.16          2388.06   \n",
       "2         2388.05            47.50           521.97          2388.03   \n",
       "3         2388.03            47.28           521.38          2388.05   \n",
       "4         2388.01            47.31           522.15          2388.03   \n",
       "\n",
       "   SensorMeasure15  SensorMeasure17  SensorMeasure20  SensorMeasure21  RUL  \n",
       "0           8.4052              392            38.86          23.3735  142  \n",
       "1           8.3803              393            39.02          23.3916  141  \n",
       "2           8.4441              393            39.08          23.4166  140  \n",
       "3           8.3917              391            39.00          23.3737  139  \n",
       "4           8.4031              390            38.99          23.4130  138  "
      ]
     },
     "execution_count": 3,
     "metadata": {},
     "output_type": "execute_result"
    }
   ],
   "source": [
    "import pandas as pd\n",
    "import numpy as np\n",
    "df=pd.read_csv(\"Processed_Test_00{}.csv\".format(1))\n",
    "df.head()"
   ]
  },
  {
   "cell_type": "code",
   "execution_count": 4,
   "metadata": {},
   "outputs": [],
   "source": [
    "def give_Test_engine(Test_no,engine_id):\n",
    "    \"Test_no, is the Sl.no of Test-set\"\n",
    "    \"engine_id, is the ID of engine\"\n",
    "    import pandas as pd\n",
    "    import numpy as np\n",
    "    df=pd.read_csv(\"Processed_Test_00{}.csv\".format(Test_no))\n",
    "    test = df[df['ID']==engine_id]\n",
    "    test = test.drop(columns=['ID'])\n",
    "    X_test=test.iloc[:,:-1]\n",
    "    y_test=test.iloc[:,-1]\n",
    "    return X_test,y_test"
   ]
  },
  {
   "cell_type": "code",
   "execution_count": 5,
   "metadata": {},
   "outputs": [],
   "source": [
    "def give_Train_engine(Train_no,engine_id):\n",
    "    \"Train_no, is the Sl.no of Train-set\"\n",
    "    \"engine_id, is the ID of engine\"\n",
    "    import pandas as pd\n",
    "    import numpy as np\n",
    "    df=pd.read_csv(\"Processed_Train_00{}.csv\".format(Train_no))\n",
    "    train = df[df['ID']==engine_id]\n",
    "    train = train.drop(columns=['ID'])\n",
    "    X_train=train.iloc[:,:-1]\n",
    "    y_train=train.iloc[:,-1]\n",
    "    return X_train,y_train"
   ]
  },
  {
   "cell_type": "markdown",
   "metadata": {},
   "source": [
    "# Importing all the training data"
   ]
  },
  {
   "cell_type": "code",
   "execution_count": 6,
   "metadata": {},
   "outputs": [],
   "source": [
    "df1 = pd.read_csv('Processed_Train_001.csv')\n",
    "\n",
    "\n",
    "df=pd.concat([df1])"
   ]
  },
  {
   "cell_type": "markdown",
   "metadata": {},
   "source": [
    "# Dividing into Features and Target"
   ]
  },
  {
   "cell_type": "code",
   "execution_count": 7,
   "metadata": {},
   "outputs": [],
   "source": [
    "X = df.iloc[:, 0:-1]\n",
    "y = df.iloc[:, -1]\n",
    "\n",
    "# Train Test split\n",
    "X_train, X_test, y_train, y_test = train_test_split(X, y, test_size = 0.2, shuffle=False)"
   ]
  },
  {
   "cell_type": "markdown",
   "metadata": {},
   "source": [
    "# Training a Random Forest Regression Model"
   ]
  },
  {
   "cell_type": "code",
   "execution_count": 40,
   "metadata": {},
   "outputs": [
    {
     "data": {
      "text/html": [
       "<div>\n",
       "<style scoped>\n",
       "    .dataframe tbody tr th:only-of-type {\n",
       "        vertical-align: middle;\n",
       "    }\n",
       "\n",
       "    .dataframe tbody tr th {\n",
       "        vertical-align: top;\n",
       "    }\n",
       "\n",
       "    .dataframe thead th {\n",
       "        text-align: right;\n",
       "    }\n",
       "</style>\n",
       "<table border=\"1\" class=\"dataframe\">\n",
       "  <thead>\n",
       "    <tr style=\"text-align: right;\">\n",
       "      <th></th>\n",
       "      <th>ID</th>\n",
       "      <th>Cycle</th>\n",
       "      <th>SensorMeasure2</th>\n",
       "      <th>SensorMeasure3</th>\n",
       "      <th>SensorMeasure4</th>\n",
       "      <th>SensorMeasure7</th>\n",
       "      <th>SensorMeasure8</th>\n",
       "      <th>SensorMeasure11</th>\n",
       "      <th>SensorMeasure12</th>\n",
       "      <th>SensorMeasure13</th>\n",
       "      <th>SensorMeasure15</th>\n",
       "      <th>SensorMeasure17</th>\n",
       "      <th>SensorMeasure20</th>\n",
       "      <th>SensorMeasure21</th>\n",
       "    </tr>\n",
       "  </thead>\n",
       "  <tbody>\n",
       "    <tr>\n",
       "      <th>0</th>\n",
       "      <td>1</td>\n",
       "      <td>1</td>\n",
       "      <td>641.82</td>\n",
       "      <td>1589.70</td>\n",
       "      <td>1400.60</td>\n",
       "      <td>554.36</td>\n",
       "      <td>2388.06</td>\n",
       "      <td>47.47</td>\n",
       "      <td>521.66</td>\n",
       "      <td>2388.02</td>\n",
       "      <td>8.4195</td>\n",
       "      <td>392</td>\n",
       "      <td>39.06</td>\n",
       "      <td>23.4190</td>\n",
       "    </tr>\n",
       "    <tr>\n",
       "      <th>1</th>\n",
       "      <td>1</td>\n",
       "      <td>2</td>\n",
       "      <td>642.15</td>\n",
       "      <td>1591.82</td>\n",
       "      <td>1403.14</td>\n",
       "      <td>553.75</td>\n",
       "      <td>2388.04</td>\n",
       "      <td>47.49</td>\n",
       "      <td>522.28</td>\n",
       "      <td>2388.07</td>\n",
       "      <td>8.4318</td>\n",
       "      <td>392</td>\n",
       "      <td>39.00</td>\n",
       "      <td>23.4236</td>\n",
       "    </tr>\n",
       "    <tr>\n",
       "      <th>2</th>\n",
       "      <td>1</td>\n",
       "      <td>3</td>\n",
       "      <td>642.35</td>\n",
       "      <td>1587.99</td>\n",
       "      <td>1404.20</td>\n",
       "      <td>554.26</td>\n",
       "      <td>2388.08</td>\n",
       "      <td>47.27</td>\n",
       "      <td>522.42</td>\n",
       "      <td>2388.03</td>\n",
       "      <td>8.4178</td>\n",
       "      <td>390</td>\n",
       "      <td>38.95</td>\n",
       "      <td>23.3442</td>\n",
       "    </tr>\n",
       "    <tr>\n",
       "      <th>3</th>\n",
       "      <td>1</td>\n",
       "      <td>4</td>\n",
       "      <td>642.35</td>\n",
       "      <td>1582.79</td>\n",
       "      <td>1401.87</td>\n",
       "      <td>554.45</td>\n",
       "      <td>2388.11</td>\n",
       "      <td>47.13</td>\n",
       "      <td>522.86</td>\n",
       "      <td>2388.08</td>\n",
       "      <td>8.3682</td>\n",
       "      <td>392</td>\n",
       "      <td>38.88</td>\n",
       "      <td>23.3739</td>\n",
       "    </tr>\n",
       "    <tr>\n",
       "      <th>4</th>\n",
       "      <td>1</td>\n",
       "      <td>5</td>\n",
       "      <td>642.37</td>\n",
       "      <td>1582.85</td>\n",
       "      <td>1406.22</td>\n",
       "      <td>554.00</td>\n",
       "      <td>2388.06</td>\n",
       "      <td>47.28</td>\n",
       "      <td>522.19</td>\n",
       "      <td>2388.04</td>\n",
       "      <td>8.4294</td>\n",
       "      <td>393</td>\n",
       "      <td>38.90</td>\n",
       "      <td>23.4044</td>\n",
       "    </tr>\n",
       "    <tr>\n",
       "      <th>...</th>\n",
       "      <td>...</td>\n",
       "      <td>...</td>\n",
       "      <td>...</td>\n",
       "      <td>...</td>\n",
       "      <td>...</td>\n",
       "      <td>...</td>\n",
       "      <td>...</td>\n",
       "      <td>...</td>\n",
       "      <td>...</td>\n",
       "      <td>...</td>\n",
       "      <td>...</td>\n",
       "      <td>...</td>\n",
       "      <td>...</td>\n",
       "      <td>...</td>\n",
       "    </tr>\n",
       "    <tr>\n",
       "      <th>16499</th>\n",
       "      <td>82</td>\n",
       "      <td>122</td>\n",
       "      <td>642.36</td>\n",
       "      <td>1585.89</td>\n",
       "      <td>1403.37</td>\n",
       "      <td>554.17</td>\n",
       "      <td>2388.03</td>\n",
       "      <td>47.48</td>\n",
       "      <td>521.37</td>\n",
       "      <td>2388.05</td>\n",
       "      <td>8.4098</td>\n",
       "      <td>392</td>\n",
       "      <td>38.88</td>\n",
       "      <td>23.3777</td>\n",
       "    </tr>\n",
       "    <tr>\n",
       "      <th>16500</th>\n",
       "      <td>82</td>\n",
       "      <td>123</td>\n",
       "      <td>642.64</td>\n",
       "      <td>1582.04</td>\n",
       "      <td>1399.08</td>\n",
       "      <td>554.79</td>\n",
       "      <td>2388.00</td>\n",
       "      <td>47.15</td>\n",
       "      <td>522.09</td>\n",
       "      <td>2388.05</td>\n",
       "      <td>8.3746</td>\n",
       "      <td>392</td>\n",
       "      <td>38.89</td>\n",
       "      <td>23.3542</td>\n",
       "    </tr>\n",
       "    <tr>\n",
       "      <th>16501</th>\n",
       "      <td>82</td>\n",
       "      <td>124</td>\n",
       "      <td>642.21</td>\n",
       "      <td>1586.98</td>\n",
       "      <td>1404.83</td>\n",
       "      <td>554.11</td>\n",
       "      <td>2388.08</td>\n",
       "      <td>47.48</td>\n",
       "      <td>522.52</td>\n",
       "      <td>2388.00</td>\n",
       "      <td>8.4140</td>\n",
       "      <td>391</td>\n",
       "      <td>38.90</td>\n",
       "      <td>23.3692</td>\n",
       "    </tr>\n",
       "    <tr>\n",
       "      <th>16502</th>\n",
       "      <td>82</td>\n",
       "      <td>125</td>\n",
       "      <td>641.90</td>\n",
       "      <td>1594.28</td>\n",
       "      <td>1398.69</td>\n",
       "      <td>555.12</td>\n",
       "      <td>2388.00</td>\n",
       "      <td>47.12</td>\n",
       "      <td>522.38</td>\n",
       "      <td>2388.00</td>\n",
       "      <td>8.4058</td>\n",
       "      <td>391</td>\n",
       "      <td>38.99</td>\n",
       "      <td>23.4025</td>\n",
       "    </tr>\n",
       "    <tr>\n",
       "      <th>16503</th>\n",
       "      <td>82</td>\n",
       "      <td>126</td>\n",
       "      <td>642.26</td>\n",
       "      <td>1581.22</td>\n",
       "      <td>1400.15</td>\n",
       "      <td>554.32</td>\n",
       "      <td>2388.04</td>\n",
       "      <td>47.29</td>\n",
       "      <td>521.82</td>\n",
       "      <td>2388.07</td>\n",
       "      <td>8.4527</td>\n",
       "      <td>394</td>\n",
       "      <td>39.04</td>\n",
       "      <td>23.3300</td>\n",
       "    </tr>\n",
       "  </tbody>\n",
       "</table>\n",
       "<p>16504 rows × 14 columns</p>\n",
       "</div>"
      ],
      "text/plain": [
       "       ID  Cycle  SensorMeasure2  SensorMeasure3  SensorMeasure4  \\\n",
       "0       1      1          641.82         1589.70         1400.60   \n",
       "1       1      2          642.15         1591.82         1403.14   \n",
       "2       1      3          642.35         1587.99         1404.20   \n",
       "3       1      4          642.35         1582.79         1401.87   \n",
       "4       1      5          642.37         1582.85         1406.22   \n",
       "...    ..    ...             ...             ...             ...   \n",
       "16499  82    122          642.36         1585.89         1403.37   \n",
       "16500  82    123          642.64         1582.04         1399.08   \n",
       "16501  82    124          642.21         1586.98         1404.83   \n",
       "16502  82    125          641.90         1594.28         1398.69   \n",
       "16503  82    126          642.26         1581.22         1400.15   \n",
       "\n",
       "       SensorMeasure7  SensorMeasure8  SensorMeasure11  SensorMeasure12  \\\n",
       "0              554.36         2388.06            47.47           521.66   \n",
       "1              553.75         2388.04            47.49           522.28   \n",
       "2              554.26         2388.08            47.27           522.42   \n",
       "3              554.45         2388.11            47.13           522.86   \n",
       "4              554.00         2388.06            47.28           522.19   \n",
       "...               ...             ...              ...              ...   \n",
       "16499          554.17         2388.03            47.48           521.37   \n",
       "16500          554.79         2388.00            47.15           522.09   \n",
       "16501          554.11         2388.08            47.48           522.52   \n",
       "16502          555.12         2388.00            47.12           522.38   \n",
       "16503          554.32         2388.04            47.29           521.82   \n",
       "\n",
       "       SensorMeasure13  SensorMeasure15  SensorMeasure17  SensorMeasure20  \\\n",
       "0              2388.02           8.4195              392            39.06   \n",
       "1              2388.07           8.4318              392            39.00   \n",
       "2              2388.03           8.4178              390            38.95   \n",
       "3              2388.08           8.3682              392            38.88   \n",
       "4              2388.04           8.4294              393            38.90   \n",
       "...                ...              ...              ...              ...   \n",
       "16499          2388.05           8.4098              392            38.88   \n",
       "16500          2388.05           8.3746              392            38.89   \n",
       "16501          2388.00           8.4140              391            38.90   \n",
       "16502          2388.00           8.4058              391            38.99   \n",
       "16503          2388.07           8.4527              394            39.04   \n",
       "\n",
       "       SensorMeasure21  \n",
       "0              23.4190  \n",
       "1              23.4236  \n",
       "2              23.3442  \n",
       "3              23.3739  \n",
       "4              23.4044  \n",
       "...                ...  \n",
       "16499          23.3777  \n",
       "16500          23.3542  \n",
       "16501          23.3692  \n",
       "16502          23.4025  \n",
       "16503          23.3300  \n",
       "\n",
       "[16504 rows x 14 columns]"
      ]
     },
     "execution_count": 40,
     "metadata": {},
     "output_type": "execute_result"
    }
   ],
   "source": [
    "regressor = RandomForestRegressor()\n",
    "regressor.fit(X_train,y_train)\n",
    "X_train"
   ]
  },
  {
   "cell_type": "code",
   "execution_count": 9,
   "metadata": {},
   "outputs": [
    {
     "data": {
      "image/png": "[encoded data removed]",
      "text/plain": [
       "<Figure size 432x288 with 1 Axes>"
      ]
     },
     "metadata": {
      "needs_background": "light"
     },
     "output_type": "display_data"
    },
    {
     "name": "stdout",
     "output_type": "stream",
     "text": [
      "RMSE on Train set: 5.162918243976883\n"
     ]
    }
   ],
   "source": [
    "# Using the trained model to check the Training data\n",
    "y_pred = regressor.predict(X_train)\n",
    "\n",
    "# Plot the train data\n",
    "plt.scatter(X_train['Cycle'][0:192],y_pred[0:192])\n",
    "plt.scatter(X_train['Cycle'][0:192],np.array(y_train)[0:192])\n",
    "plt.ylabel('RUL')\n",
    "plt.xlabel('CYCLE')\n",
    "plt.legend(['Prediction', 'Actual'], loc='upper right')\n",
    "plt.show()\n",
    "\n",
    "\n",
    "print('RMSE on Train set:', np.sqrt(metrics.mean_squared_error(y_train ,y_pred)))"
   ]
  },
  {
   "cell_type": "code",
   "execution_count": 10,
   "metadata": {},
   "outputs": [
    {
     "name": "stdout",
     "output_type": "stream",
     "text": [
      "RMSE on Test set: 52.51544266309021\n"
     ]
    },
    {
     "data": {
      "image/png": "[encoded data removed]",
      "text/plain": [
       "<Figure size 432x288 with 1 Axes>"
      ]
     },
     "metadata": {
      "needs_background": "light"
     },
     "output_type": "display_data"
    }
   ],
   "source": [
    "# Using the trained model to check the Test data\n",
    "y_pred = regressor.predict(X_test)\n",
    "\n",
    "print('RMSE on Test set:', np.sqrt(metrics.mean_squared_error(y_test, y_pred)))\n",
    "\n",
    "# Plotting the test data\n",
    "plt.scatter(X_test['Cycle'][100:200],y_pred[100:200])\n",
    "plt.scatter(X_test['Cycle'][100:200],np.array(y_test)[100:200])\n",
    "plt.legend(['Prediction', 'Actual'], loc='upper right')\n",
    "plt.ylabel('RUL')\n",
    "plt.xlabel('CYCLES')\n",
    "plt.show()"
   ]
  },
  {
   "cell_type": "code",
   "execution_count": 11,
   "metadata": {},
   "outputs": [
    {
     "name": "stdout",
     "output_type": "stream",
     "text": [
      "RMSE on Test set: 52.51544266309021\n",
      "RMSE on Training set: 5.162918243976883\n"
     ]
    }
   ],
   "source": [
    "y_pred = regressor.predict(X_test)\n",
    "print('RMSE on Test set:', np.sqrt(metrics.mean_squared_error(y_test, y_pred)))\n",
    "\n",
    "y_pred_train = regressor.predict(X_train)\n",
    "print('RMSE on Training set:', np.sqrt(metrics.mean_squared_error(y_train, y_pred_train)))\n"
   ]
  },
  {
   "cell_type": "code",
   "execution_count": 12,
   "metadata": {},
   "outputs": [],
   "source": [
    "from sklearn.linear_model import LinearRegression\n",
    "lreg = LinearRegression()"
   ]
  },
  {
   "cell_type": "code",
   "execution_count": 13,
   "metadata": {},
   "outputs": [
    {
     "data": {
      "text/plain": [
       "LinearRegression()"
      ]
     },
     "execution_count": 13,
     "metadata": {},
     "output_type": "execute_result"
    }
   ],
   "source": [
    "lreg.fit(X_train,y_train)"
   ]
  },
  {
   "cell_type": "code",
   "execution_count": 14,
   "metadata": {},
   "outputs": [
    {
     "name": "stdout",
     "output_type": "stream",
     "text": [
      "RMSE on Test set: 52.23758873315075\n",
      "RMSE on Training set: 36.26551865919276\n"
     ]
    }
   ],
   "source": [
    "y_pred_reg = lreg.predict(X_test)\n",
    "print('RMSE on Test set:', np.sqrt(metrics.mean_squared_error(y_test, y_pred_reg)))\n",
    "\n",
    "y_pred_train_reg = lreg.predict(X_train)\n",
    "print('RMSE on Training set:', np.sqrt(metrics.mean_squared_error(y_train, y_pred_train_reg)))\n"
   ]
  },
  {
   "cell_type": "code",
   "execution_count": 34,
   "metadata": {},
   "outputs": [
    {
     "data": {
      "image/png": "[encoded data removed]",
      "text/plain": [
       "<Figure size 432x288 with 1 Axes>"
      ]
     },
     "metadata": {
      "needs_background": "light"
     },
     "output_type": "display_data"
    },
    {
     "name": "stdout",
     "output_type": "stream",
     "text": [
      "RMSE on Train set: 36.26551865919276\n"
     ]
    }
   ],
   "source": [
    "# Using the trained model to check the Training data\n",
    "y_pred_train_reg = lreg.predict(X_train)\n",
    "\n",
    "# Plot the train data\n",
    "plt.scatter(X_train['Cycle'][0:192],y_pred_train_reg[0:192])\n",
    "plt.scatter(X_train['Cycle'][0:192],np.array(y_train)[0:192])\n",
    "plt.ylabel('RUL')\n",
    "plt.xlabel('CYCLE')\n",
    "plt.legend(['Prediction', 'Actual'], loc='upper right')\n",
    "plt.show()\n",
    "\n",
    "\n",
    "print('RMSE on Train set:', np.sqrt(metrics.mean_squared_error(y_train ,y_pred_train_reg)))"
   ]
  },
  {
   "cell_type": "code",
   "execution_count": 35,
   "metadata": {},
   "outputs": [
    {
     "name": "stdout",
     "output_type": "stream",
     "text": [
      "RMSE on Test set: 52.23758873315075\n"
     ]
    },
    {
     "data": {
      "image/png": "[encoded data removed]",
      "text/plain": [
       "<Figure size 432x288 with 1 Axes>"
      ]
     },
     "metadata": {
      "needs_background": "light"
     },
     "output_type": "display_data"
    }
   ],
   "source": [
    "# Using the trained model to check the Test data\n",
    "y_pred_reg = lreg.predict(X_test)\n",
    "\n",
    "print('RMSE on Test set:', np.sqrt(metrics.mean_squared_error(y_test, y_pred_reg)))\n",
    "\n",
    "# Plotting the test data\n",
    "plt.scatter(X_test['Cycle'][100:200],y_pred_reg[100:200])\n",
    "plt.scatter(X_test['Cycle'][100:200],np.array(y_test)[100:200])\n",
    "plt.legend(['Prediction', 'Actual'], loc='upper right')\n",
    "plt.ylabel('RUL')\n",
    "plt.xlabel('CYCLES')\n",
    "plt.show()"
   ]
  },
  {
   "cell_type": "code",
   "execution_count": 18,
   "metadata": {},
   "outputs": [
    {
     "data": {
      "text/plain": [
       "LinearRegression()"
      ]
     },
     "execution_count": 18,
     "metadata": {},
     "output_type": "execute_result"
    }
   ],
   "source": [
    "from sklearn.metrics import mean_squared_error, r2_score\n",
    "from sklearn.preprocessing import PolynomialFeatures\n",
    "\n",
    "polynomial_features= PolynomialFeatures(degree=4)\n",
    "x_poly = polynomial_features.fit_transform(X_train)\n",
    "x_poly_test = polynomial_features.fit_transform(X_test)\n",
    "Pmodel = LinearRegression()\n",
    "Pmodel.fit(x_poly, y_train)"
   ]
  },
  {
   "cell_type": "code",
   "execution_count": 19,
   "metadata": {},
   "outputs": [
    {
     "name": "stdout",
     "output_type": "stream",
     "text": [
      "RMSE on Test set: 119.37711017459462\n",
      "RMSE on Training set: 29.257814710288272\n"
     ]
    }
   ],
   "source": [
    "y_pred_poly = Pmodel.predict(x_poly_test)\n",
    "print('RMSE on Test set:', np.sqrt(metrics.mean_squared_error(y_test, y_pred_poly)))\n",
    "\n",
    "y_pred_train_poly = Pmodel.predict(x_poly)\n",
    "print('RMSE on Training set:', np.sqrt(metrics.mean_squared_error(y_train, y_pred_train_poly)))\n"
   ]
  },
  {
   "cell_type": "code",
   "execution_count": 37,
   "metadata": {},
   "outputs": [
    {
     "data": {
      "image/png": "[encoded data removed]",
      "text/plain": [
       "<Figure size 432x288 with 1 Axes>"
      ]
     },
     "metadata": {
      "needs_background": "light"
     },
     "output_type": "display_data"
    },
    {
     "name": "stdout",
     "output_type": "stream",
     "text": [
      "RMSE on Train set: 29.257814710288272\n"
     ]
    }
   ],
   "source": [
    "y_pred_train_poly = Pmodel.predict(x_poly)\n",
    "\n",
    "# Plot the train data\n",
    "plt.scatter(X_train['Cycle'][0:192],y_pred_train_poly[0:192])\n",
    "plt.scatter(X_train['Cycle'][0:192],np.array(y_train)[0:192])\n",
    "plt.ylabel('RUL')\n",
    "plt.xlabel('CYCLE')\n",
    "plt.legend(['Prediction', 'Actual'], loc='upper right')\n",
    "plt.show()\n",
    "\n",
    "\n",
    "print('RMSE on Train set:', np.sqrt(metrics.mean_squared_error(y_train ,y_pred_train_poly)))"
   ]
  },
  {
   "cell_type": "code",
   "execution_count": 38,
   "metadata": {},
   "outputs": [
    {
     "name": "stdout",
     "output_type": "stream",
     "text": [
      "RMSE on Test set: 119.37711017459462\n"
     ]
    },
    {
     "data": {
      "image/png": "[encoded data removed]",
      "text/plain": [
       "<Figure size 432x288 with 1 Axes>"
      ]
     },
     "metadata": {
      "needs_background": "light"
     },
     "output_type": "display_data"
    }
   ],
   "source": [
    "y_pred_poly = Pmodel.predict(x_poly_test)\n",
    "\n",
    "print('RMSE on Test set:', np.sqrt(metrics.mean_squared_error(y_test, y_pred_poly)))\n",
    "\n",
    "# Plotting the test data\n",
    "plt.scatter(X_test['Cycle'][100:200],y_pred_poly[100:200])\n",
    "plt.scatter(X_test['Cycle'][100:200],np.array(y_test)[100:200])\n",
    "plt.legend(['Prediction', 'Actual'], loc='upper right')\n",
    "plt.ylabel('RUL')\n",
    "plt.xlabel('CYCLES')\n",
    "plt.show()"
   ]
  },
  {
   "cell_type": "code",
   "execution_count": 39,
   "metadata": {},
   "outputs": [
    {
     "name": "stdout",
     "output_type": "stream",
     "text": [
      "        ID  Cycle  SensorMeasure2  SensorMeasure3  SensorMeasure4  \\\n",
      "0        1      1          641.82         1589.70         1400.60   \n",
      "1        1      2          642.15         1591.82         1403.14   \n",
      "2        1      3          642.35         1587.99         1404.20   \n",
      "3        1      4          642.35         1582.79         1401.87   \n",
      "4        1      5          642.37         1582.85         1406.22   \n",
      "...    ...    ...             ...             ...             ...   \n",
      "20626  100    196          643.49         1597.98         1428.63   \n",
      "20627  100    197          643.54         1604.50         1433.58   \n",
      "20628  100    198          643.42         1602.46         1428.18   \n",
      "20629  100    199          643.23         1605.26         1426.53   \n",
      "20630  100    200          643.85         1600.38         1432.14   \n",
      "\n",
      "       SensorMeasure7  SensorMeasure8  SensorMeasure11  SensorMeasure12  \\\n",
      "0              554.36         2388.06            47.47           521.66   \n",
      "1              553.75         2388.04            47.49           522.28   \n",
      "2              554.26         2388.08            47.27           522.42   \n",
      "3              554.45         2388.11            47.13           522.86   \n",
      "4              554.00         2388.06            47.28           522.19   \n",
      "...               ...             ...              ...              ...   \n",
      "20626          551.43         2388.19            48.07           519.49   \n",
      "20627          550.86         2388.23            48.04           519.68   \n",
      "20628          550.94         2388.24            48.09           520.01   \n",
      "20629          550.68         2388.25            48.39           519.67   \n",
      "20630          550.79         2388.26            48.20           519.30   \n",
      "\n",
      "       SensorMeasure13  SensorMeasure15  SensorMeasure17  SensorMeasure20  \\\n",
      "0              2388.02           8.4195              392            39.06   \n",
      "1              2388.07           8.4318              392            39.00   \n",
      "2              2388.03           8.4178              390            38.95   \n",
      "3              2388.08           8.3682              392            38.88   \n",
      "4              2388.04           8.4294              393            38.90   \n",
      "...                ...              ...              ...              ...   \n",
      "20626          2388.26           8.4956              397            38.49   \n",
      "20627          2388.22           8.5139              395            38.30   \n",
      "20628          2388.24           8.5646              398            38.44   \n",
      "20629          2388.23           8.5389              395            38.29   \n",
      "20630          2388.26           8.5036              396            38.37   \n",
      "\n",
      "       SensorMeasure21  \n",
      "0              23.4190  \n",
      "1              23.4236  \n",
      "2              23.3442  \n",
      "3              23.3739  \n",
      "4              23.4044  \n",
      "...                ...  \n",
      "20626          22.9735  \n",
      "20627          23.1594  \n",
      "20628          22.9333  \n",
      "20629          23.0640  \n",
      "20630          23.0522  \n",
      "\n",
      "[20631 rows x 14 columns]\n"
     ]
    }
   ],
   "source": [
    "df1 = pd.read_csv('Processed_Test_001.csv')\n",
    "x = df.iloc[:, 0:-1]\n",
    "y = df.iloc[:, -1]\n"
   ]
  },
  {
   "cell_type": "code",
   "execution_count": 25,
   "metadata": {},
   "outputs": [
    {
     "name": "stdout",
     "output_type": "stream",
     "text": [
      "RMSE on Training set: 23.937519310086415\n"
     ]
    }
   ],
   "source": [
    "y_pred_test = regressor.predict(x)\n",
    "print('RMSE on Training set:', np.sqrt(metrics.mean_squared_error(y, y_pred_test)))"
   ]
  },
  {
   "cell_type": "code",
   "execution_count": 33,
   "metadata": {},
   "outputs": [
    {
     "name": "stdout",
     "output_type": "stream",
     "text": [
      "RMSE on Test set: 23.937519310086415\n"
     ]
    },
    {
     "data": {
      "image/png": "[encoded data removed]",
      "text/plain": [
       "<Figure size 432x288 with 1 Axes>"
      ]
     },
     "metadata": {
      "needs_background": "light"
     },
     "output_type": "display_data"
    }
   ],
   "source": [
    "y_pred_reg = regressor.predict(x)\n",
    "\n",
    "print('RMSE on Test set:', np.sqrt(metrics.mean_squared_error(y, y_pred_reg)))\n",
    "\n",
    "# Plotting the test data\n",
    "plt.scatter(X_test['Cycle'][100:200],y_pred_reg[100:200])\n",
    "plt.scatter(X_test['Cycle'][100:200],np.array(y)[100:200])\n",
    "plt.legend(['Prediction', 'Actual'], loc='upper right')\n",
    "plt.ylabel('RUL')\n",
    "plt.xlabel('CYCLES')\n",
    "plt.show()"
   ]
  },
  {
   "cell_type": "code",
   "execution_count": 26,
   "metadata": {},
   "outputs": [
    {
     "name": "stdout",
     "output_type": "stream",
     "text": [
      "RMSE on Training set: 39.97446965210165\n"
     ]
    }
   ],
   "source": [
    "y_pred_lreg = lreg.predict(x)\n",
    "print('RMSE on Training set:', np.sqrt(metrics.mean_squared_error(y, y_pred_lreg)))"
   ]
  },
  {
   "cell_type": "code",
   "execution_count": 32,
   "metadata": {},
   "outputs": [
    {
     "name": "stdout",
     "output_type": "stream",
     "text": [
      "RMSE on Test set: 39.97446965210165\n"
     ]
    },
    {
     "data": {
      "image/png": "[encoded data removed]",
      "text/plain": [
       "<Figure size 432x288 with 1 Axes>"
      ]
     },
     "metadata": {
      "needs_background": "light"
     },
     "output_type": "display_data"
    }
   ],
   "source": [
    "y_pred_lreg = lreg.predict(x)\n",
    "\n",
    "print('RMSE on Test set:', np.sqrt(metrics.mean_squared_error(y, y_pred_lreg)))\n",
    "\n",
    "# Plotting the test data\n",
    "plt.scatter(X_test['Cycle'][100:200],y_pred_lreg[100:200])\n",
    "plt.scatter(X_test['Cycle'][100:200],np.array(y)[100:200])\n",
    "plt.legend(['Prediction', 'Actual'], loc='upper right')\n",
    "plt.ylabel('RUL')\n",
    "plt.xlabel('CYCLES')\n",
    "plt.show()"
   ]
  },
  {
   "cell_type": "code",
   "execution_count": null,
   "metadata": {},
   "outputs": [],
   "source": []
  }
 ],
 "metadata": {
  "kernelspec": {
   "display_name": "Python 3",
   "language": "python",
   "name": "python3"
  },
  "language_info": {
   "codemirror_mode": {
    "name": "ipython",
    "version": 3
   },
   "file_extension": ".py",
   "mimetype": "text/x-python",
   "name": "python",
   "nbconvert_exporter": "python",
   "pygments_lexer": "ipython3",
   "version": "3.9.5"
  },
  "varInspector": {
   "cols": {
    "lenName": 16,
    "lenType": 16,
    "lenVar": 40
   },
   "kernels_config": {
    "python": {
     "delete_cmd_postfix": "",
     "delete_cmd_prefix": "del ",
     "library": "var_list.py",
     "varRefreshCmd": "print(var_dic_list())"
    },
    "r": {
     "delete_cmd_postfix": ") ",
     "delete_cmd_prefix": "rm(",
     "library": "var_list.r",
     "varRefreshCmd": "cat(var_dic_list()) "
    }
   },
   "types_to_exclude": [
    "module",
    "function",
    "builtin_function_or_method",
    "instance",
    "_Feature"
   ],
   "window_display": false
  }
 },
 "nbformat": 4,
 "nbformat_minor": 4
}
